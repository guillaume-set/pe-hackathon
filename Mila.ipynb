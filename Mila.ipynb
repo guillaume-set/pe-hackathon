{
 "cells": [
  {
   "cell_type": "code",
   "execution_count": 8,
   "metadata": {},
   "outputs": [
    {
     "data": {
      "text/html": [
       "<div>\n",
       "<style scoped>\n",
       "    .dataframe tbody tr th:only-of-type {\n",
       "        vertical-align: middle;\n",
       "    }\n",
       "\n",
       "    .dataframe tbody tr th {\n",
       "        vertical-align: top;\n",
       "    }\n",
       "\n",
       "    .dataframe thead th {\n",
       "        text-align: right;\n",
       "    }\n",
       "</style>\n",
       "<table border=\"1\" class=\"dataframe\">\n",
       "  <thead>\n",
       "    <tr style=\"text-align: right;\">\n",
       "      <th></th>\n",
       "      <th>Date</th>\n",
       "      <th>Close/Last</th>\n",
       "      <th>Volume</th>\n",
       "      <th>Open</th>\n",
       "      <th>High</th>\n",
       "      <th>Low</th>\n",
       "    </tr>\n",
       "  </thead>\n",
       "  <tbody>\n",
       "    <tr>\n",
       "      <th>0</th>\n",
       "      <td>10/30/2023</td>\n",
       "      <td>$170.29</td>\n",
       "      <td>51130960</td>\n",
       "      <td>$169.02</td>\n",
       "      <td>$171.17</td>\n",
       "      <td>$168.87</td>\n",
       "    </tr>\n",
       "    <tr>\n",
       "      <th>1</th>\n",
       "      <td>10/27/2023</td>\n",
       "      <td>$168.22</td>\n",
       "      <td>58499130</td>\n",
       "      <td>$166.91</td>\n",
       "      <td>$168.96</td>\n",
       "      <td>$166.83</td>\n",
       "    </tr>\n",
       "    <tr>\n",
       "      <th>2</th>\n",
       "      <td>10/26/2023</td>\n",
       "      <td>$166.89</td>\n",
       "      <td>70625260</td>\n",
       "      <td>$170.37</td>\n",
       "      <td>$171.3775</td>\n",
       "      <td>$165.67</td>\n",
       "    </tr>\n",
       "    <tr>\n",
       "      <th>3</th>\n",
       "      <td>10/25/2023</td>\n",
       "      <td>$171.10</td>\n",
       "      <td>57156960</td>\n",
       "      <td>$171.88</td>\n",
       "      <td>$173.06</td>\n",
       "      <td>$170.65</td>\n",
       "    </tr>\n",
       "    <tr>\n",
       "      <th>4</th>\n",
       "      <td>10/24/2023</td>\n",
       "      <td>$173.44</td>\n",
       "      <td>43816640</td>\n",
       "      <td>$173.05</td>\n",
       "      <td>$173.67</td>\n",
       "      <td>$171.45</td>\n",
       "    </tr>\n",
       "  </tbody>\n",
       "</table>\n",
       "</div>"
      ],
      "text/plain": [
       "         Date Close/Last    Volume     Open       High      Low\n",
       "0  10/30/2023    $170.29  51130960  $169.02    $171.17  $168.87\n",
       "1  10/27/2023    $168.22  58499130  $166.91    $168.96  $166.83\n",
       "2  10/26/2023    $166.89  70625260  $170.37  $171.3775  $165.67\n",
       "3  10/25/2023    $171.10  57156960  $171.88    $173.06  $170.65\n",
       "4  10/24/2023    $173.44  43816640  $173.05    $173.67  $171.45"
      ]
     },
     "execution_count": 8,
     "metadata": {},
     "output_type": "execute_result"
    }
   ],
   "source": [
    "import pandas as pd\n",
    "import matplotlib.pyplot as plt\n",
    "\n",
    "lien_apple_un_an = \"1y apple.csv\"\n",
    "\n",
    "df = pd.read_csv(lien_apple_un_an)\n",
    "pd.to_datetime(df['Date'])\n",
    "df.head()"
   ]
  },
  {
   "cell_type": "code",
   "execution_count": 20,
   "metadata": {},
   "outputs": [
    {
     "data": {
      "text/plain": [
       "pandas.core.series.Series"
      ]
     },
     "execution_count": 20,
     "metadata": {},
     "output_type": "execute_result"
    }
   ],
   "source": [
    "temps=df['Date']\n",
    "high_auctions=df['High']\n",
    "low_auctions=df['Low']\n",
    "\n"
   ]
  },
  {
   "cell_type": "code",
   "execution_count": 23,
   "metadata": {},
   "outputs": [
    {
     "data": {
      "text/plain": [
       "Date          object\n",
       "Close/Last    object\n",
       "Volume         int64\n",
       "Open          object\n",
       "High          object\n",
       "Low           object\n",
       "dtype: object"
      ]
     },
     "execution_count": 23,
     "metadata": {},
     "output_type": "execute_result"
    }
   ],
   "source": [
    "df.dtypes\n",
    "\n",
    "#problème sur les types des données de chaque colonne : il y a un signe $ devant chaque donnée numérique"
   ]
  },
  {
   "cell_type": "code",
   "execution_count": null,
   "metadata": {},
   "outputs": [],
   "source": []
  }
 ],
 "metadata": {
  "kernelspec": {
   "display_name": "Python 3",
   "language": "python",
   "name": "python3"
  },
  "language_info": {
   "codemirror_mode": {
    "name": "ipython",
    "version": 3
   },
   "file_extension": ".py",
   "mimetype": "text/x-python",
   "name": "python",
   "nbconvert_exporter": "python",
   "pygments_lexer": "ipython3",
   "version": "3.11.4"
  }
 },
 "nbformat": 4,
 "nbformat_minor": 2
}
